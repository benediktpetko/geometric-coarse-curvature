{
 "cells": [
  {
   "cell_type": "code",
   "execution_count": 1,
   "metadata": {},
   "outputs": [],
   "source": [
    "import numpy as np\n",
    "\n",
    "from manifolds.model_spaces import Hypersphere\n",
    "from analyzers.curvature_convergence_analyzer import curvature_convergence_analyzer"
   ]
  },
  {
   "cell_type": "code",
   "execution_count": 2,
   "outputs": [],
   "source": [
    "%load_ext autoreload\n",
    "%autoreload 2"
   ],
   "metadata": {
    "collapsed": false
   }
  },
  {
   "cell_type": "code",
   "execution_count": 3,
   "metadata": {},
   "outputs": [],
   "source": [
    "sphere = Hypersphere()"
   ]
  },
  {
   "cell_type": "code",
   "execution_count": null,
   "outputs": [
    {
     "name": "stderr",
     "output_type": "stream",
     "text": [
      "Manifold: INFO: Sampled 100148 points.\n",
      "Geometric graph: INFO: Computing pairwise ambient distances...\n",
      "Geometric graph: INFO: Kept 1013 points from a fixed ambient neighbourhood.\n",
      "Geometric graph: INFO: Kept 1013 points in a fixed interconnectivity neighbourhood.\n",
      "Geometric graph: INFO: Kept 1013 points at given scale.\n",
      "Geometric graph: INFO: Computing graph distances...\n",
      "Geometric graph: INFO: Generating target point.\n",
      "Geometric graph: INFO: The target has index 3\n",
      "Geometric graph: INFO: Computing midpoint indices...\n",
      "Geometric graph: INFO: Kept only 990 points due to connectivity constraints.\n",
      "Geometric graph: INFO: Computing coarse curvature...\n",
      "Manifold: INFO: Sampled 99888 points.\n",
      "Geometric graph: INFO: Computing pairwise ambient distances...\n",
      "Geometric graph: INFO: Kept 988 points from a fixed ambient neighbourhood.\n",
      "Geometric graph: INFO: Kept 988 points in a fixed interconnectivity neighbourhood.\n",
      "Geometric graph: INFO: Kept 988 points at given scale.\n",
      "Geometric graph: INFO: Computing graph distances...\n",
      "Geometric graph: INFO: Generating target point.\n",
      "Geometric graph: INFO: The target has index 3\n",
      "Geometric graph: INFO: Computing midpoint indices...\n",
      "Geometric graph: INFO: Kept only 838 points due to connectivity constraints.\n",
      "Geometric graph: INFO: Computing coarse curvature...\n",
      "Manifold: INFO: Sampled 100157 points.\n",
      "Geometric graph: INFO: Computing pairwise ambient distances...\n",
      "Geometric graph: INFO: Kept 972 points from a fixed ambient neighbourhood.\n",
      "Geometric graph: INFO: Kept 972 points in a fixed interconnectivity neighbourhood.\n",
      "Geometric graph: INFO: Kept 972 points at given scale.\n",
      "Geometric graph: INFO: Computing graph distances...\n",
      "Geometric graph: INFO: Generating target point.\n",
      "Geometric graph: INFO: The target has index 2\n",
      "Geometric graph: INFO: Computing midpoint indices...\n",
      "Geometric graph: INFO: Kept only 921 points due to connectivity constraints.\n",
      "Geometric graph: INFO: Computing coarse curvature...\n",
      "Manifold: INFO: Sampled 100459 points.\n",
      "Geometric graph: INFO: Computing pairwise ambient distances...\n",
      "Geometric graph: INFO: Kept 991 points from a fixed ambient neighbourhood.\n",
      "Geometric graph: INFO: Kept 991 points in a fixed interconnectivity neighbourhood.\n",
      "Geometric graph: INFO: Kept 991 points at given scale.\n",
      "Geometric graph: INFO: Computing graph distances...\n",
      "Geometric graph: INFO: Generating target point.\n",
      "Geometric graph: INFO: The target has index 2\n",
      "Geometric graph: INFO: Computing midpoint indices...\n",
      "Geometric graph: INFO: Kept only 901 points due to connectivity constraints.\n",
      "Geometric graph: INFO: Computing coarse curvature...\n",
      "Manifold: INFO: Sampled 99800 points.\n",
      "Geometric graph: INFO: Computing pairwise ambient distances...\n",
      "Geometric graph: INFO: Kept 955 points from a fixed ambient neighbourhood.\n",
      "Geometric graph: INFO: Kept 955 points in a fixed interconnectivity neighbourhood.\n",
      "Geometric graph: INFO: Kept 955 points at given scale.\n",
      "Geometric graph: INFO: Computing graph distances...\n"
     ]
    }
   ],
   "source": [
    "connectivities = 0.015 / np.arange(1,2)\n",
    "scales = 0.1 / np.arange(1,2)\n",
    "intensities = 100000 * np.arange(1,2)\n",
    "root = np.array([1, 0, 0])\n",
    "\n",
    "curvature_convergence_analyzer(sphere, root, connectivities, scales, intensities, algorithm=\"dijkstra\", num_runs=5)"
   ],
   "metadata": {
    "collapsed": false,
    "pycharm": {
     "is_executing": true
    }
   }
  },
  {
   "cell_type": "code",
   "execution_count": null,
   "metadata": {},
   "outputs": [],
   "source": []
  },
  {
   "cell_type": "code",
   "execution_count": null,
   "metadata": {},
   "outputs": [],
   "source": []
  }
 ],
 "metadata": {
  "kernelspec": {
   "display_name": "Python 3 (ipykernel)",
   "language": "python",
   "name": "python3"
  },
  "language_info": {
   "codemirror_mode": {
    "name": "ipython",
    "version": 3
   },
   "file_extension": ".py",
   "mimetype": "text/x-python",
   "name": "python",
   "nbconvert_exporter": "python",
   "pygments_lexer": "ipython3",
   "version": "3.9.7"
  }
 },
 "nbformat": 4,
 "nbformat_minor": 1
}
