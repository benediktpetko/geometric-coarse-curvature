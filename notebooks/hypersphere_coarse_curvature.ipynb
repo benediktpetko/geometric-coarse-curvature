{
 "cells": [
  {
   "cell_type": "code",
   "execution_count": 1,
   "metadata": {},
   "outputs": [],
   "source": [
    "import numpy as np\n",
    "\n",
    "from manifolds.model_spaces import Hypersphere\n",
    "from analyzers.curvature_convergence_analyzer import curvature_convergence_analyzer"
   ]
  },
  {
   "cell_type": "code",
   "execution_count": 2,
   "outputs": [],
   "source": [
    "%load_ext autoreload\n",
    "%autoreload 2"
   ],
   "metadata": {
    "collapsed": false
   }
  },
  {
   "cell_type": "code",
   "execution_count": 3,
   "metadata": {},
   "outputs": [],
   "source": [
    "sphere = Hypersphere()"
   ]
  },
  {
   "cell_type": "code",
   "execution_count": 6,
   "outputs": [
    {
     "name": "stderr",
     "output_type": "stream",
     "text": [
      "Manifold: INFO: Sampled 29755 points.\n",
      "Geometric graph: INFO: Computing pairwise ambient distances...\n",
      "Geometric graph: INFO: Kept 685 points from a fixed neighbourhood.\n",
      "Geometric graph: INFO: Kept 685 points in a fixed interconnectivity neighbourhood.\n",
      "Geometric graph: INFO: Kept 685 points at given scale.\n",
      "Geometric graph: INFO: Computing graph distances...\n",
      "Geometric graph: INFO: Generating target point.\n",
      "Geometric graph: INFO: The target has index 1\n",
      "Geometric graph: INFO: Computing midpoint indices...\n",
      "Geometric graph: INFO: Kept only 681 points due to connectivity constraints.\n",
      "Geometric graph: INFO: Computing coarse curvature...\n"
     ]
    },
    {
     "name": "stdout",
     "output_type": "stream",
     "text": [
      "Scale: 0.15, curvature: [-322.23352402] \n",
      "\n"
     ]
    },
    {
     "data": {
      "text/plain": "<Figure size 640x480 with 1 Axes>",
      "image/png": "[encoded data removed]"
     },
     "metadata": {},
     "output_type": "display_data"
    },
    {
     "name": "stdout",
     "output_type": "stream",
     "text": [
      "Curvatures at root: \n",
      " [array([-322.23352402])]\n"
     ]
    }
   ],
   "source": [
    "connectivities = 0.03 / np.arange(1,2)\n",
    "scales = 0.15 / np.arange(1,2)\n",
    "intensities = 30000 * np.arange(1,2)\n",
    "root = np.array([1, 0, 0])\n",
    "\n",
    "curvature_convergence_analyzer(sphere, root, connectivities, scales, intensities, num_runs=1)"
   ],
   "metadata": {
    "collapsed": false
   }
  },
  {
   "cell_type": "code",
   "execution_count": null,
   "metadata": {},
   "outputs": [],
   "source": []
  },
  {
   "cell_type": "code",
   "execution_count": null,
   "metadata": {},
   "outputs": [],
   "source": []
  }
 ],
 "metadata": {
  "kernelspec": {
   "display_name": "Python 3 (ipykernel)",
   "language": "python",
   "name": "python3"
  },
  "language_info": {
   "codemirror_mode": {
    "name": "ipython",
    "version": 3
   },
   "file_extension": ".py",
   "mimetype": "text/x-python",
   "name": "python",
   "nbconvert_exporter": "python",
   "pygments_lexer": "ipython3",
   "version": "3.9.7"
  }
 },
 "nbformat": 4,
 "nbformat_minor": 1
}
