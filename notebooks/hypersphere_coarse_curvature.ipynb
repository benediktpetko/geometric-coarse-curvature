{
 "cells": [
  {
   "cell_type": "code",
   "execution_count": 1,
   "metadata": {
    "collapsed": true
   },
   "outputs": [],
   "source": [
    "import numpy as np\n",
    "\n",
    "from manifolds.model_spaces import Hypersphere\n",
    "from analyzers.curvature_convergence_analyzer import curvature_convergence_analyzer"
   ]
  },
  {
   "cell_type": "code",
   "execution_count": 4,
   "outputs": [
    {
     "ename": "KeyboardInterrupt",
     "evalue": "",
     "output_type": "error",
     "traceback": [
      "\u001B[0;31m---------------------------------------------------------------------------\u001B[0m",
      "\u001B[0;31mKeyboardInterrupt\u001B[0m                         Traceback (most recent call last)",
      "Cell \u001B[0;32mIn[4], line 7\u001B[0m\n\u001B[1;32m      4\u001B[0m intensities \u001B[38;5;241m=\u001B[39m \u001B[38;5;241m100\u001B[39m \u001B[38;5;241m*\u001B[39m \u001B[38;5;241m10\u001B[39m \u001B[38;5;241m*\u001B[39m\u001B[38;5;241m*\u001B[39m np\u001B[38;5;241m.\u001B[39marange(\u001B[38;5;241m1\u001B[39m,\u001B[38;5;241m7\u001B[39m)\n\u001B[1;32m      5\u001B[0m root \u001B[38;5;241m=\u001B[39m np\u001B[38;5;241m.\u001B[39marray([\u001B[38;5;241m1\u001B[39m, \u001B[38;5;241m0\u001B[39m, \u001B[38;5;241m0\u001B[39m])\n\u001B[0;32m----> 7\u001B[0m \u001B[43mcurvature_convergence_analyzer\u001B[49m\u001B[43m(\u001B[49m\u001B[43msphere\u001B[49m\u001B[43m,\u001B[49m\u001B[43m \u001B[49m\u001B[43mroot\u001B[49m\u001B[43m,\u001B[49m\u001B[43m \u001B[49m\u001B[43mscales\u001B[49m\u001B[43m,\u001B[49m\u001B[43m \u001B[49m\u001B[43mconnectivities\u001B[49m\u001B[43m,\u001B[49m\u001B[43m \u001B[49m\u001B[43mintensities\u001B[49m\u001B[43m)\u001B[49m\n",
      "File \u001B[0;32m~/GitHub/geometric-coarse-curvature/analyzers/curvature_convergence_analyzer.py:30\u001B[0m, in \u001B[0;36mcurvature_convergence_analyzer\u001B[0;34m(manifold, root, connectivities, scales, intensities, num_runs, method)\u001B[0m\n\u001B[1;32m     28\u001B[0m geometric_graph \u001B[38;5;241m=\u001B[39m GeometricGraph(point_cloud, root, connectivities[i])\n\u001B[1;32m     29\u001B[0m \u001B[38;5;28;01mif\u001B[39;00m geometric_graph\u001B[38;5;241m.\u001B[39mgraph_distances \u001B[38;5;129;01mis\u001B[39;00m \u001B[38;5;28;01mNone\u001B[39;00m:\n\u001B[0;32m---> 30\u001B[0m     \u001B[43mgeometric_graph\u001B[49m\u001B[38;5;241;43m.\u001B[39;49m\u001B[43mcompute_graph_distances_and_midpoints\u001B[49m\u001B[43m(\u001B[49m\u001B[43m)\u001B[49m\n\u001B[1;32m     31\u001B[0m target \u001B[38;5;241m=\u001B[39m np\u001B[38;5;241m.\u001B[39margwhere((scales[i] \u001B[38;5;241m/\u001B[39m \u001B[38;5;241m2\u001B[39m \u001B[38;5;241m<\u001B[39m geometric_graph\u001B[38;5;241m.\u001B[39mgraph_distances[\u001B[38;5;241m0\u001B[39m, :]) \u001B[38;5;241m*\u001B[39m\n\u001B[1;32m     32\u001B[0m                      (scales[i] \u001B[38;5;241m*\u001B[39m \u001B[38;5;241m3\u001B[39m \u001B[38;5;241m/\u001B[39m \u001B[38;5;241m2\u001B[39m \u001B[38;5;241m>\u001B[39m geometric_graph\u001B[38;5;241m.\u001B[39mgraph_distances[\u001B[38;5;241m0\u001B[39m, :]))[\u001B[38;5;241m1\u001B[39m]\n\u001B[1;32m     33\u001B[0m ricci_curvature \u001B[38;5;241m=\u001B[39m \u001B[38;5;241m2\u001B[39m \u001B[38;5;241m*\u001B[39m (manifold\u001B[38;5;241m.\u001B[39mdim \u001B[38;5;241m+\u001B[39m \u001B[38;5;241m2\u001B[39m) \u001B[38;5;241m/\u001B[39m scales[i] \u001B[38;5;241m*\u001B[39m\u001B[38;5;241m*\u001B[39m \u001B[38;5;241m2\u001B[39m \u001B[38;5;241m*\u001B[39m \\\n\u001B[1;32m     34\u001B[0m                   geometric_graph\u001B[38;5;241m.\u001B[39mcompute_ricci_curvature(target, scales[i], method\u001B[38;5;241m=\u001B[39mmethod)\n",
      "File \u001B[0;32m~/GitHub/geometric-coarse-curvature/graphs/geometric_graphs.py:52\u001B[0m, in \u001B[0;36mGeometricGraph.compute_graph_distances_and_midpoints\u001B[0;34m(self)\u001B[0m\n\u001B[1;32m     50\u001B[0m edge_weights \u001B[38;5;241m=\u001B[39m \u001B[38;5;28mself\u001B[39m\u001B[38;5;241m.\u001B[39mambient_distances\u001B[38;5;241m.\u001B[39mcopy()\n\u001B[1;32m     51\u001B[0m edge_weights[edge_weights \u001B[38;5;241m>\u001B[39m \u001B[38;5;28mself\u001B[39m\u001B[38;5;241m.\u001B[39mconnectivity] \u001B[38;5;241m=\u001B[39m np\u001B[38;5;241m.\u001B[39minf\n\u001B[0;32m---> 52\u001B[0m \u001B[38;5;28mself\u001B[39m\u001B[38;5;241m.\u001B[39mgraph_distances, \u001B[38;5;28mself\u001B[39m\u001B[38;5;241m.\u001B[39mmidpoints \u001B[38;5;241m=\u001B[39m \u001B[43mshortest_path_distances_and_midpoints\u001B[49m\u001B[43m(\u001B[49m\u001B[43medge_weights\u001B[49m\u001B[43m)\u001B[49m\n",
      "File \u001B[0;32m~/GitHub/geometric-coarse-curvature/algorithms/shortest_paths.py:57\u001B[0m, in \u001B[0;36mshortest_path_distances_and_midpoints\u001B[0;34m(edge_weights)\u001B[0m\n\u001B[1;32m     55\u001B[0m \u001B[38;5;28;01mfor\u001B[39;00m i \u001B[38;5;129;01min\u001B[39;00m \u001B[38;5;28mrange\u001B[39m(num_points):\n\u001B[1;32m     56\u001B[0m     \u001B[38;5;28;01mfor\u001B[39;00m j \u001B[38;5;129;01min\u001B[39;00m \u001B[38;5;28mrange\u001B[39m(num_points):\n\u001B[0;32m---> 57\u001B[0m         \u001B[38;5;28;01mif\u001B[39;00m distances[i, j] \u001B[38;5;241m>\u001B[39m \u001B[43mdistances\u001B[49m\u001B[43m[\u001B[49m\u001B[43mi\u001B[49m\u001B[43m,\u001B[49m\u001B[43m \u001B[49m\u001B[43mk\u001B[49m\u001B[43m]\u001B[49m\u001B[43m \u001B[49m\u001B[38;5;241;43m+\u001B[39;49m\u001B[43m \u001B[49m\u001B[43mdistances\u001B[49m\u001B[43m[\u001B[49m\u001B[43mk\u001B[49m\u001B[43m,\u001B[49m\u001B[43m \u001B[49m\u001B[43mj\u001B[49m\u001B[43m]\u001B[49m:\n\u001B[1;32m     58\u001B[0m             distances[i, j] \u001B[38;5;241m=\u001B[39m distances[i, k] \u001B[38;5;241m+\u001B[39m distances[k, j]\n\u001B[1;32m     59\u001B[0m             midpoints[i, j] \u001B[38;5;241m=\u001B[39m k\n",
      "\u001B[0;31mKeyboardInterrupt\u001B[0m: "
     ]
    }
   ],
   "source": [
    "sphere = Hypersphere()\n",
    "scales = 0.2 * 0.5 ** np.arange(0,6)\n",
    "connectivities = 0.1 * 0.5 ** np.arange(0,6)\n",
    "intensities = 100 * 10 ** np.arange(1,7)\n",
    "root = np.array([1, 0, 0])\n",
    "\n",
    "curvature_convergence_analyzer(sphere, root, scales, connectivities, intensities)"
   ],
   "metadata": {
    "collapsed": false
   }
  }
 ],
 "metadata": {
  "kernelspec": {
   "display_name": "Python 3",
   "language": "python",
   "name": "python3"
  },
  "language_info": {
   "codemirror_mode": {
    "name": "ipython",
    "version": 2
   },
   "file_extension": ".py",
   "mimetype": "text/x-python",
   "name": "python",
   "nbconvert_exporter": "python",
   "pygments_lexer": "ipython2",
   "version": "2.7.6"
  }
 },
 "nbformat": 4,
 "nbformat_minor": 0
}
