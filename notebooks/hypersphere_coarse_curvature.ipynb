{
 "cells": [
  {
   "cell_type": "code",
   "execution_count": 1,
   "metadata": {},
   "outputs": [],
   "source": [
    "import numpy as np\n",
    "import sys\n",
    "sys.path.extend(['/home/benedikt/GitHub/geometric-coarse-curvature/venv/lib/python3.9/site-packages'])\n",
    "\n",
    "from manifolds.model_spaces import Hypersphere\n",
    "from analyzers.curvature_convergence_analyzer import curvature_convergence_analyzer"
   ]
  },
  {
   "cell_type": "code",
   "execution_count": 2,
   "outputs": [],
   "source": [
    "%load_ext autoreload\n",
    "%autoreload 2"
   ],
   "metadata": {
    "collapsed": false
   }
  },
  {
   "cell_type": "code",
   "execution_count": 3,
   "metadata": {},
   "outputs": [],
   "source": [
    "sphere = Hypersphere()"
   ]
  },
  {
   "cell_type": "code",
   "execution_count": 7,
   "outputs": [
    {
     "name": "stderr",
     "output_type": "stream",
     "text": [
      "INFO: Manifold: Sampled 300320 points.\n",
      "INFO: Geometric graph: Computing pairwise ambient distances...\n"
     ]
    },
    {
     "name": "stdout",
     "output_type": "stream",
     "text": [
      "Point density factor:  7.5\n",
      "Geodesic approximation factor:  20.0\n"
     ]
    },
    {
     "name": "stderr",
     "output_type": "stream",
     "text": [
      "INFO: Geometric graph: Kept 3039 points from a fixed ambient neighbourhood.\n",
      "INFO: Geometric graph: Kept 3039 points in a fixed interconnectivity neighbourhood.\n",
      "INFO: Geometric graph: Kept 3039 points at given random walk scale.\n",
      "INFO: Geometric graph: Computing graph distances...\n",
      "100%|██████████| 3039/3039 [00:15<00:00, 201.58it/s]\n",
      "INFO: Geometric graph: Generating target point.\n",
      "INFO: Manifold: Sampled 299630 points.\n",
      "INFO: Geometric graph: Computing pairwise ambient distances...\n",
      "INFO: Geometric graph: Kept 3000 points from a fixed ambient neighbourhood.\n",
      "INFO: Geometric graph: Kept 3000 points in a fixed interconnectivity neighbourhood.\n",
      "INFO: Geometric graph: Kept 3000 points at given random walk scale.\n",
      "INFO: Geometric graph: Computing graph distances...\n",
      " 94%|█████████▎| 2812/3000 [00:14<00:00, 193.37it/s]\n"
     ]
    },
    {
     "ename": "KeyboardInterrupt",
     "evalue": "",
     "output_type": "error",
     "traceback": [
      "\u001B[0;31m---------------------------------------------------------------------------\u001B[0m",
      "\u001B[0;31mKeyboardInterrupt\u001B[0m                         Traceback (most recent call last)",
      "Cell \u001B[0;32mIn[7], line 6\u001B[0m\n\u001B[1;32m      3\u001B[0m intensities \u001B[38;5;241m=\u001B[39m \u001B[38;5;241m300000\u001B[39m \u001B[38;5;241m*\u001B[39m np\u001B[38;5;241m.\u001B[39marange(\u001B[38;5;241m1\u001B[39m,\u001B[38;5;241m2\u001B[39m)\n\u001B[1;32m      4\u001B[0m root \u001B[38;5;241m=\u001B[39m np\u001B[38;5;241m.\u001B[39marray([\u001B[38;5;241m1\u001B[39m, \u001B[38;5;241m0\u001B[39m, \u001B[38;5;241m0\u001B[39m])\n\u001B[0;32m----> 6\u001B[0m \u001B[43mcurvature_convergence_analyzer\u001B[49m\u001B[43m(\u001B[49m\u001B[43msphere\u001B[49m\u001B[43m,\u001B[49m\u001B[43m \u001B[49m\u001B[43mroot\u001B[49m\u001B[43m,\u001B[49m\u001B[43m \u001B[49m\u001B[43mconnectivities\u001B[49m\u001B[43m,\u001B[49m\u001B[43m \u001B[49m\u001B[43mscales\u001B[49m\u001B[43m,\u001B[49m\u001B[43m \u001B[49m\u001B[43mintensities\u001B[49m\u001B[43m,\u001B[49m\u001B[43m \u001B[49m\u001B[43malgorithm\u001B[49m\u001B[38;5;241;43m=\u001B[39;49m\u001B[38;5;124;43m\"\u001B[39;49m\u001B[38;5;124;43mdijkstra\u001B[39;49m\u001B[38;5;124;43m\"\u001B[39;49m\u001B[43m,\u001B[49m\u001B[43m \u001B[49m\u001B[43mnum_runs\u001B[49m\u001B[38;5;241;43m=\u001B[39;49m\u001B[38;5;241;43m10\u001B[39;49m\u001B[43m)\u001B[49m\n",
      "File \u001B[0;32m~/GitHub/geometric-coarse-curvature/analyzers/curvature_convergence_analyzer.py:35\u001B[0m, in \u001B[0;36mcurvature_convergence_analyzer\u001B[0;34m(manifold, root, connectivities, scales, intensities, num_runs, method, algorithm)\u001B[0m\n\u001B[1;32m     32\u001B[0m geometric_graph \u001B[38;5;241m=\u001B[39m GeometricGraph(point_cloud, root, connectivities[i])\n\u001B[1;32m     33\u001B[0m \u001B[38;5;28;01mtry\u001B[39;00m:\n\u001B[1;32m     34\u001B[0m     ricci_curvature \u001B[38;5;241m=\u001B[39m \u001B[38;5;241m2\u001B[39m \u001B[38;5;241m*\u001B[39m (manifold\u001B[38;5;241m.\u001B[39mdim \u001B[38;5;241m+\u001B[39m \u001B[38;5;241m2\u001B[39m) \u001B[38;5;241m/\u001B[39m (scales[i] \u001B[38;5;241m*\u001B[39m\u001B[38;5;241m*\u001B[39m \u001B[38;5;241m2\u001B[39m) \u001B[38;5;241m*\u001B[39m \\\n\u001B[0;32m---> 35\u001B[0m                   \u001B[43mgeometric_graph\u001B[49m\u001B[38;5;241;43m.\u001B[39;49m\u001B[43mcompute_coarse_curvature\u001B[49m\u001B[43m(\u001B[49m\u001B[43mscales\u001B[49m\u001B[43m[\u001B[49m\u001B[43mi\u001B[49m\u001B[43m]\u001B[49m\u001B[43m,\u001B[49m\u001B[43m \u001B[49m\u001B[43mmethod\u001B[49m\u001B[38;5;241;43m=\u001B[39;49m\u001B[43mmethod\u001B[49m\u001B[43m,\u001B[49m\u001B[43m \u001B[49m\u001B[43malgorithm\u001B[49m\u001B[38;5;241;43m=\u001B[39;49m\u001B[43malgorithm\u001B[49m\u001B[43m)\u001B[49m\n\u001B[1;32m     36\u001B[0m \u001B[38;5;28;01mexcept\u001B[39;00m \u001B[38;5;167;01mIndexError\u001B[39;00m:\n\u001B[1;32m     37\u001B[0m     \u001B[38;5;28;01mcontinue\u001B[39;00m\n",
      "File \u001B[0;32m~/GitHub/geometric-coarse-curvature/structures/geometric_graph.py:101\u001B[0m, in \u001B[0;36mGeometricGraph.compute_coarse_curvature\u001B[0;34m(self, scale, target, method, algorithm)\u001B[0m\n\u001B[1;32m     99\u001B[0m \u001B[38;5;28mself\u001B[39m\u001B[38;5;241m.\u001B[39m_compute_ambient_distances(\u001B[38;5;28mself\u001B[39m\u001B[38;5;241m.\u001B[39mroot, scale)\n\u001B[1;32m    100\u001B[0m \u001B[38;5;28mself\u001B[39m\u001B[38;5;241m.\u001B[39m_compute_edge_weights(scale)\n\u001B[0;32m--> 101\u001B[0m \u001B[38;5;28;43mself\u001B[39;49m\u001B[38;5;241;43m.\u001B[39;49m\u001B[43m_compute_graph_distances\u001B[49m\u001B[43m(\u001B[49m\u001B[43mscale\u001B[49m\u001B[43m,\u001B[49m\u001B[43m \u001B[49m\u001B[43malgorithm\u001B[49m\u001B[43m)\u001B[49m\n\u001B[1;32m    102\u001B[0m \u001B[38;5;28;01mif\u001B[39;00m target \u001B[38;5;129;01mis\u001B[39;00m \u001B[38;5;28;01mNone\u001B[39;00m:\n\u001B[1;32m    103\u001B[0m     target \u001B[38;5;241m=\u001B[39m \u001B[38;5;28mself\u001B[39m\u001B[38;5;241m.\u001B[39m_generate_random_target(scale)\n",
      "File \u001B[0;32m~/GitHub/geometric-coarse-curvature/structures/geometric_graph.py:63\u001B[0m, in \u001B[0;36mGeometricGraph._compute_graph_distances\u001B[0;34m(self, scale, algorithm)\u001B[0m\n\u001B[1;32m     61\u001B[0m     \u001B[38;5;28mself\u001B[39m\u001B[38;5;241m.\u001B[39mgraph_distances \u001B[38;5;241m=\u001B[39m floyd_warshall(\u001B[38;5;28mself\u001B[39m\u001B[38;5;241m.\u001B[39medge_weights)\n\u001B[1;32m     62\u001B[0m \u001B[38;5;28;01melif\u001B[39;00m algorithm \u001B[38;5;241m==\u001B[39m \u001B[38;5;124m'\u001B[39m\u001B[38;5;124mdijkstra\u001B[39m\u001B[38;5;124m'\u001B[39m:\n\u001B[0;32m---> 63\u001B[0m     \u001B[38;5;28mself\u001B[39m\u001B[38;5;241m.\u001B[39mgraph_distances \u001B[38;5;241m=\u001B[39m \u001B[43mdijkstra_pairwise\u001B[49m\u001B[43m(\u001B[49m\u001B[38;5;28;43mself\u001B[39;49m\u001B[38;5;241;43m.\u001B[39;49m\u001B[43medge_weights\u001B[49m\u001B[43m)\u001B[49m\n\u001B[1;32m     64\u001B[0m \u001B[38;5;28;01melse\u001B[39;00m:\n\u001B[1;32m     65\u001B[0m     \u001B[38;5;28;01mraise\u001B[39;00m \u001B[38;5;167;01mNotImplementedError\u001B[39;00m(\u001B[38;5;124m\"\u001B[39m\u001B[38;5;124mAlgorithm not implemented.\u001B[39m\u001B[38;5;124m\"\u001B[39m)\n",
      "File \u001B[0;32m~/GitHub/geometric-coarse-curvature/algorithms/shortest_paths.py:104\u001B[0m, in \u001B[0;36mdijkstra_pairwise\u001B[0;34m(weight_matrix)\u001B[0m\n\u001B[1;32m    101\u001B[0m distances \u001B[38;5;241m=\u001B[39m np\u001B[38;5;241m.\u001B[39mfull((num_nodes, num_nodes), np\u001B[38;5;241m.\u001B[39minf)\n\u001B[1;32m    103\u001B[0m \u001B[38;5;28;01mfor\u001B[39;00m source \u001B[38;5;129;01min\u001B[39;00m tqdm(\u001B[38;5;28mrange\u001B[39m(num_nodes)):\n\u001B[0;32m--> 104\u001B[0m     distances[source] \u001B[38;5;241m=\u001B[39m \u001B[43mdijkstra_single_source\u001B[49m\u001B[43m(\u001B[49m\u001B[43mweight_matrix\u001B[49m\u001B[43m,\u001B[49m\u001B[43m \u001B[49m\u001B[43msource\u001B[49m\u001B[43m)\u001B[49m\n\u001B[1;32m    106\u001B[0m \u001B[38;5;28;01mreturn\u001B[39;00m distances\n",
      "File \u001B[0;32m~/GitHub/geometric-coarse-curvature/algorithms/shortest_paths.py:92\u001B[0m, in \u001B[0;36mdijkstra_single_source\u001B[0;34m(weight_matrix, source)\u001B[0m\n\u001B[1;32m     89\u001B[0m     \u001B[38;5;28;01mcontinue\u001B[39;00m\n\u001B[1;32m     91\u001B[0m \u001B[38;5;28;01mfor\u001B[39;00m v \u001B[38;5;129;01min\u001B[39;00m \u001B[38;5;28mrange\u001B[39m(num_nodes):\n\u001B[0;32m---> 92\u001B[0m     \u001B[38;5;28;01mif\u001B[39;00m weight_matrix[u][v] \u001B[38;5;241m!=\u001B[39m \u001B[43mnp\u001B[49m\u001B[38;5;241m.\u001B[39minf \u001B[38;5;129;01mand\u001B[39;00m distance[u] \u001B[38;5;241m+\u001B[39m weight_matrix[u][v] \u001B[38;5;241m<\u001B[39m distance[v]:\n\u001B[1;32m     93\u001B[0m         distance[v] \u001B[38;5;241m=\u001B[39m distance[u] \u001B[38;5;241m+\u001B[39m weight_matrix[u][v]\n\u001B[1;32m     94\u001B[0m         heapq\u001B[38;5;241m.\u001B[39mheappush(priority_queue, (distance[v], v))\n",
      "\u001B[0;31mKeyboardInterrupt\u001B[0m: "
     ]
    }
   ],
   "source": [
    "connectivities = 0.005 / np.arange(1,2)\n",
    "scales = 0.1 / np.arange(1,2)\n",
    "intensities = 300000 * np.arange(1,2)\n",
    "root = np.array([1, 0, 0])\n",
    "\n",
    "curvature_convergence_analyzer(sphere, root, connectivities, scales, intensities, algorithm=\"dijkstra\", num_runs=10)"
   ],
   "metadata": {
    "collapsed": false
   }
  },
  {
   "cell_type": "code",
   "execution_count": null,
   "outputs": [],
   "source": [],
   "metadata": {
    "collapsed": false
   }
  }
 ],
 "metadata": {
  "kernelspec": {
   "display_name": "Python 3 (ipykernel)",
   "language": "python",
   "name": "python3"
  },
  "language_info": {
   "codemirror_mode": {
    "name": "ipython",
    "version": 3
   },
   "file_extension": ".py",
   "mimetype": "text/x-python",
   "name": "python",
   "nbconvert_exporter": "python",
   "pygments_lexer": "ipython3",
   "version": "3.9.7"
  }
 },
 "nbformat": 4,
 "nbformat_minor": 1
}
