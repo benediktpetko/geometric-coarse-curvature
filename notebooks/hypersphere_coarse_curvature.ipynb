{
 "cells": [
  {
   "cell_type": "code",
   "execution_count": 31,
   "metadata": {
    "collapsed": true
   },
   "outputs": [],
   "source": [
    "import numpy as np\n",
    "\n",
    "from manifolds.model_spaces import Hypersphere\n",
    "from analyzers.curvature_convergence_analyzer import curvature_convergence_analyzer"
   ]
  },
  {
   "cell_type": "code",
   "execution_count": 30,
   "outputs": [
    {
     "ename": "TypeError",
     "evalue": "only integer scalar arrays can be converted to a scalar index",
     "output_type": "error",
     "traceback": [
      "\u001B[0;31m---------------------------------------------------------------------------\u001B[0m",
      "\u001B[0;31mTypeError\u001B[0m                                 Traceback (most recent call last)",
      "Cell \u001B[0;32mIn[30], line 7\u001B[0m\n\u001B[1;32m      4\u001B[0m intensities \u001B[38;5;241m=\u001B[39m \u001B[38;5;241m100\u001B[39m \u001B[38;5;241m*\u001B[39m\u001B[38;5;241m*\u001B[39m np\u001B[38;5;241m.\u001B[39marange(\u001B[38;5;241m1\u001B[39m,\u001B[38;5;241m6\u001B[39m)\n\u001B[1;32m      5\u001B[0m root \u001B[38;5;241m=\u001B[39m np\u001B[38;5;241m.\u001B[39marray([\u001B[38;5;241m1\u001B[39m, \u001B[38;5;241m0\u001B[39m, \u001B[38;5;241m0\u001B[39m])\n\u001B[0;32m----> 7\u001B[0m \u001B[43mcurvature_convergence_analyzer\u001B[49m\u001B[43m(\u001B[49m\u001B[43msphere\u001B[49m\u001B[43m,\u001B[49m\u001B[43m \u001B[49m\u001B[43mroot\u001B[49m\u001B[43m,\u001B[49m\u001B[43m \u001B[49m\u001B[43mscales\u001B[49m\u001B[43m,\u001B[49m\u001B[43m \u001B[49m\u001B[43mconnectivities\u001B[49m\u001B[43m,\u001B[49m\u001B[43m \u001B[49m\u001B[43mintensities\u001B[49m\u001B[43m)\u001B[49m\n",
      "File \u001B[0;32m~/GitHub/geometric-coarse-curvature/analyzers/curvature_convergence_analyzer.py:21\u001B[0m, in \u001B[0;36mcurvature_convergence_analyzer\u001B[0;34m(manifold, root, connectivities, scales, intensities, num_runs, method)\u001B[0m\n\u001B[1;32m      6\u001B[0m \u001B[38;5;250m\u001B[39m\u001B[38;5;124;03m\"\"\"\u001B[39;00m\n\u001B[1;32m      7\u001B[0m \u001B[38;5;124;03mCompare the curvature at the root of a geometric graph to the curvature of the manifold\u001B[39;00m\n\u001B[1;32m      8\u001B[0m \u001B[38;5;124;03mat the corresponding point.\u001B[39;00m\n\u001B[0;32m   (...)\u001B[0m\n\u001B[1;32m     17\u001B[0m \u001B[38;5;124;03m:return: a list of average curvature at the root of the graph\u001B[39;00m\n\u001B[1;32m     18\u001B[0m \u001B[38;5;124;03m\"\"\"\u001B[39;00m\n\u001B[1;32m     19\u001B[0m results \u001B[38;5;241m=\u001B[39m []\n\u001B[0;32m---> 21\u001B[0m \u001B[38;5;28;01mfor\u001B[39;00m i \u001B[38;5;129;01min\u001B[39;00m \u001B[38;5;28;43mrange\u001B[39;49m\u001B[43m(\u001B[49m\u001B[43mintensities\u001B[49m\u001B[43m)\u001B[49m:\n\u001B[1;32m     22\u001B[0m     \u001B[38;5;28;01mfor\u001B[39;00m _ \u001B[38;5;129;01min\u001B[39;00m \u001B[38;5;28mrange\u001B[39m(num_runs):\n\u001B[1;32m     23\u001B[0m         point_cloud \u001B[38;5;241m=\u001B[39m manifold\u001B[38;5;241m.\u001B[39mpoisson_sample(intensities[i])\n",
      "\u001B[0;31mTypeError\u001B[0m: only integer scalar arrays can be converted to a scalar index"
     ]
    }
   ],
   "source": [
    "sphere = Hypersphere()\n",
    "scales = 0.2 ** np.arange(1,6)\n",
    "connectivities = 0.1 ** np.arange(1,6)\n",
    "intensities = 100 ** np.arange(1,6)\n",
    "root = np.array([1, 0, 0])\n",
    "\n",
    "curvature_convergence_analyzer(sphere, root, scales, connectivities, intensities)"
   ],
   "metadata": {
    "collapsed": false
   }
  }
 ],
 "metadata": {
  "kernelspec": {
   "display_name": "Python 3",
   "language": "python",
   "name": "python3"
  },
  "language_info": {
   "codemirror_mode": {
    "name": "ipython",
    "version": 2
   },
   "file_extension": ".py",
   "mimetype": "text/x-python",
   "name": "python",
   "nbconvert_exporter": "python",
   "pygments_lexer": "ipython2",
   "version": "2.7.6"
  }
 },
 "nbformat": 4,
 "nbformat_minor": 0
}
