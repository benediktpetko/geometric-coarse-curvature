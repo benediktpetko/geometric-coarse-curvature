{
 "cells": [
  {
   "cell_type": "code",
   "execution_count": 3,
   "metadata": {
    "collapsed": true
   },
   "outputs": [
    {
     "data": {
      "text/plain": "['/home/benedikt/pycharm/pycharm-2022.2/plugins/python/helpers-pro/jupyter_debug',\n '/home/benedikt/pycharm/pycharm-2022.2/plugins/python/helpers/pydev',\n '/home/benedikt/GitHub/geometric-coarse-curvature',\n '/home/benedikt/GitHub/geometric-coarse-curvature',\n '/usr/lib/python39.zip',\n '/usr/lib/python3.9',\n '/usr/lib/python3.9/lib-dynload',\n '',\n '/home/benedikt/.local/lib/python3.9/site-packages',\n '/usr/lib/python3.9/site-packages']"
     },
     "execution_count": 3,
     "metadata": {},
     "output_type": "execute_result"
    }
   ],
   "source": [
    "import sys\n",
    "sys.path"
   ]
  }
 ],
 "metadata": {
  "kernelspec": {
   "display_name": "Python 3",
   "language": "python",
   "name": "python3"
  },
  "language_info": {
   "codemirror_mode": {
    "name": "ipython",
    "version": 2
   },
   "file_extension": ".py",
   "mimetype": "text/x-python",
   "name": "python",
   "nbconvert_exporter": "python",
   "pygments_lexer": "ipython2",
   "version": "2.7.6"
  }
 },
 "nbformat": 4,
 "nbformat_minor": 0
}
